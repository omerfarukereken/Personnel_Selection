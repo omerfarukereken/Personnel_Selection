{
 "cells": [
  {
   "cell_type": "code",
   "execution_count": 6,
   "metadata": {},
   "outputs": [],
   "source": [
    "import numpy as np\n",
    "import pandas as pd\n",
    "import seaborn as sns\n",
    "import matplotlib.pyplot as plt\n",
    "from sklearn.preprocessing import StandardScaler\n",
    "from sklearn.model_selection import train_test_split\n",
    "from sklearn.metrics import confusion_matrix, classification_report \n",
    "from sklearn.metrics import accuracy_score\n",
    "from sklearn.linear_model import LogisticRegression\n",
    "from sklearn.neighbors import KNeighborsClassifier\n",
    "from sklearn.ensemble import RandomForestClassifier\n",
    "from sklearn.tree import DecisionTreeClassifier\n",
    "from xgboost import XGBClassifier\n",
    "from yellowbrick.classifier import ConfusionMatrix, ClassificationReport\n",
    "import pickle\n",
    "\n",
    "#from yellowbrick.classifier import classification_report\n",
    "import warnings\n",
    "warnings.filterwarnings(\"ignore\")\n",
    "from sklearn.svm import SVC\n",
    "from sklearn.cluster import KMeans"
   ]
  },
  {
   "cell_type": "code",
   "execution_count": 7,
   "metadata": {},
   "outputs": [],
   "source": [
    "#logistikte scale etmek zorunda değilsin ama knn, svm'de yapmak lazım."
   ]
  },
  {
   "cell_type": "code",
   "execution_count": 8,
   "metadata": {},
   "outputs": [],
   "source": [
    "df = pd.read_csv(\"yz.csv\")"
   ]
  },
  {
   "cell_type": "code",
   "execution_count": 9,
   "metadata": {},
   "outputs": [],
   "source": [
    "#fig = plt.figure(figsize=(20,20))\n",
    "#df.corr()[\"karar\"].sort_values().plot.barh()"
   ]
  },
  {
   "cell_type": "code",
   "execution_count": 10,
   "metadata": {},
   "outputs": [],
   "source": [
    "X = df.drop(\"karar\", axis=1)\n",
    "y = df[\"karar\"]"
   ]
  },
  {
   "cell_type": "markdown",
   "metadata": {},
   "source": [
    "# LOGISTIC REGRESSION"
   ]
  },
  {
   "cell_type": "code",
   "execution_count": 11,
   "metadata": {},
   "outputs": [],
   "source": [
    "X_egitim, X_test, y_egitim, y_test = train_test_split(X, y, test_size=0.20, stratify=y, random_state=42)"
   ]
  },
  {
   "cell_type": "code",
   "execution_count": 16,
   "metadata": {},
   "outputs": [
    {
     "data": {
      "text/plain": [
       "array([[375,  37],\n",
       "       [ 45, 143]], dtype=int64)"
      ]
     },
     "execution_count": 16,
     "metadata": {},
     "output_type": "execute_result"
    }
   ],
   "source": [
    "log_model = LogisticRegression()\n",
    "log_model.fit(X_egitim, y_egitim)\n",
    "y_tahmin = log_model.predict(X_test)\n",
    "confusion_matrix(y_test, y_tahmin)"
   ]
  },
  {
   "cell_type": "code",
   "execution_count": 17,
   "metadata": {},
   "outputs": [
    {
     "name": "stdout",
     "output_type": "stream",
     "text": [
      "              precision    recall  f1-score   support\n",
      "\n",
      "         0.0       0.89      0.91      0.90       412\n",
      "         1.0       0.79      0.76      0.78       188\n",
      "\n",
      "    accuracy                           0.86       600\n",
      "   macro avg       0.84      0.84      0.84       600\n",
      "weighted avg       0.86      0.86      0.86       600\n",
      "\n"
     ]
    }
   ],
   "source": [
    "print(classification_report(y_test, y_tahmin))"
   ]
  },
  {
   "cell_type": "code",
   "execution_count": 18,
   "metadata": {},
   "outputs": [
    {
     "data": {
      "image/png": "[encoded data removed]",
      "text/plain": [
       "<Figure size 576x396 with 2 Axes>"
      ]
     },
     "metadata": {},
     "output_type": "display_data"
    }
   ],
   "source": [
    "fig = plt.figure()\n",
    "\n",
    "ClassificationReport(log_model, support=True).fit(X_egitim, y_egitim)\n",
    "ClassificationReport(log_model, support=True).score(X_test, y_test)\n",
    "ClassificationReport(log_model, support=True).finalize\n",
    "plt.xticks([0.5, 1.5, 2.5, 3.5], ['Precision', 'Recall', 'F1', 'support'])\n",
    "plt.yticks([0.5, 1.5], ['0', '1'])\n",
    "\n",
    "\n",
    "plt.show()"
   ]
  },
  {
   "cell_type": "markdown",
   "metadata": {},
   "source": [
    "# LOGISTIC REGRESSION SCALED"
   ]
  },
  {
   "cell_type": "code",
   "execution_count": 19,
   "metadata": {},
   "outputs": [],
   "source": [
    "olcek = StandardScaler()\n",
    "X_egitim = olcek.fit_transform(X_egitim)\n",
    "X_test = olcek.transform(X_test)"
   ]
  },
  {
   "cell_type": "code",
   "execution_count": 20,
   "metadata": {},
   "outputs": [
    {
     "data": {
      "text/plain": [
       "array([[375,  37],\n",
       "       [ 45, 143]], dtype=int64)"
      ]
     },
     "execution_count": 20,
     "metadata": {},
     "output_type": "execute_result"
    }
   ],
   "source": [
    "scaleloj = LogisticRegression()\n",
    "scaleloj.fit(X_egitim, y_egitim)\n",
    "y_tahmin = scaleloj.predict(X_test)\n",
    "confusion_matrix(y_test, y_tahmin)"
   ]
  },
  {
   "cell_type": "code",
   "execution_count": 21,
   "metadata": {},
   "outputs": [
    {
     "name": "stdout",
     "output_type": "stream",
     "text": [
      "              precision    recall  f1-score   support\n",
      "\n",
      "         0.0       0.89      0.91      0.90       412\n",
      "         1.0       0.79      0.76      0.78       188\n",
      "\n",
      "    accuracy                           0.86       600\n",
      "   macro avg       0.84      0.84      0.84       600\n",
      "weighted avg       0.86      0.86      0.86       600\n",
      "\n"
     ]
    }
   ],
   "source": [
    "print(classification_report(y_test, y_tahmin))"
   ]
  },
  {
   "cell_type": "markdown",
   "metadata": {},
   "source": [
    "# KNN"
   ]
  },
  {
   "cell_type": "code",
   "execution_count": 22,
   "metadata": {},
   "outputs": [],
   "source": [
    "X_egitim, X_test, y_egitim, y_test = train_test_split(X, y, test_size=0.20, stratify=y, random_state=42)"
   ]
  },
  {
   "cell_type": "code",
   "execution_count": 23,
   "metadata": {},
   "outputs": [
    {
     "data": {
      "text/plain": [
       "KNeighborsClassifier(n_neighbors=11)"
      ]
     },
     "execution_count": 23,
     "metadata": {},
     "output_type": "execute_result"
    }
   ],
   "source": [
    "olcek = StandardScaler()\n",
    "X_egitim = olcek.fit_transform(X_egitim)\n",
    "X_test = olcek.transform(X_test)\n",
    "keyk_model = KNeighborsClassifier(n_neighbors = 11)\n",
    "keyk_model.fit(X_egitim, y_egitim)"
   ]
  },
  {
   "cell_type": "code",
   "execution_count": 24,
   "metadata": {},
   "outputs": [
    {
     "name": "stdout",
     "output_type": "stream",
     "text": [
      "[[333  79]\n",
      " [ 28 160]]\n",
      "              precision    recall  f1-score   support\n",
      "\n",
      "         0.0       0.92      0.81      0.86       412\n",
      "         1.0       0.67      0.85      0.75       188\n",
      "\n",
      "    accuracy                           0.82       600\n",
      "   macro avg       0.80      0.83      0.81       600\n",
      "weighted avg       0.84      0.82      0.83       600\n",
      "\n"
     ]
    }
   ],
   "source": [
    "y_tahmin = keyk_model.predict(X_test)\n",
    "print(confusion_matrix(y_test, y_tahmin))\n",
    "print(classification_report(y_test, y_tahmin))"
   ]
  },
  {
   "cell_type": "markdown",
   "metadata": {},
   "source": [
    "# SVM"
   ]
  },
  {
   "cell_type": "code",
   "execution_count": 25,
   "metadata": {},
   "outputs": [],
   "source": [
    "X_egitim, X_test, y_egitim, y_test = train_test_split(X, y, test_size=0.20, stratify=y, random_state=42)"
   ]
  },
  {
   "cell_type": "code",
   "execution_count": 26,
   "metadata": {},
   "outputs": [],
   "source": [
    "olcek  = StandardScaler()\n",
    "X_egitim = olcek.fit_transform(X_egitim)\n",
    "X_test = olcek.transform(X_test)\n",
    "svm_model = SVC().fit(X_egitim, y_egitim)"
   ]
  },
  {
   "cell_type": "code",
   "execution_count": 27,
   "metadata": {},
   "outputs": [
    {
     "name": "stdout",
     "output_type": "stream",
     "text": [
      "[[379  33]\n",
      " [ 37 151]]\n",
      "              precision    recall  f1-score   support\n",
      "\n",
      "         0.0       0.91      0.92      0.92       412\n",
      "         1.0       0.82      0.80      0.81       188\n",
      "\n",
      "    accuracy                           0.88       600\n",
      "   macro avg       0.87      0.86      0.86       600\n",
      "weighted avg       0.88      0.88      0.88       600\n",
      "\n"
     ]
    }
   ],
   "source": [
    "y_tahmin = svm_model.predict(X_test)\n",
    "print(confusion_matrix(y_test, y_tahmin))\n",
    "print(classification_report(y_test, y_tahmin))"
   ]
  },
  {
   "cell_type": "markdown",
   "metadata": {},
   "source": [
    "# Decision Tree"
   ]
  },
  {
   "cell_type": "code",
   "execution_count": 19,
   "metadata": {},
   "outputs": [],
   "source": [
    "X_egitim, X_test, y_egitim, y_test = train_test_split(X, y, test_size=0.20, stratify=y, random_state=42)"
   ]
  },
  {
   "cell_type": "code",
   "execution_count": 20,
   "metadata": {},
   "outputs": [
    {
     "data": {
      "text/plain": [
       "DecisionTreeClassifier()"
      ]
     },
     "execution_count": 20,
     "metadata": {},
     "output_type": "execute_result"
    }
   ],
   "source": [
    "agac_model = DecisionTreeClassifier()\n",
    "agac_model.fit(X_egitim, y_egitim)"
   ]
  },
  {
   "cell_type": "code",
   "execution_count": 21,
   "metadata": {},
   "outputs": [
    {
     "name": "stdout",
     "output_type": "stream",
     "text": [
      "[[401  11]\n",
      " [  6 182]]\n",
      "              precision    recall  f1-score   support\n",
      "\n",
      "         0.0       0.99      0.97      0.98       412\n",
      "         1.0       0.94      0.97      0.96       188\n",
      "\n",
      "    accuracy                           0.97       600\n",
      "   macro avg       0.96      0.97      0.97       600\n",
      "weighted avg       0.97      0.97      0.97       600\n",
      "\n"
     ]
    }
   ],
   "source": [
    "y_tahmin = agac_model.predict(X_test)\n",
    "print(confusion_matrix(y_test, y_tahmin))\n",
    "print(classification_report(y_test, y_tahmin))"
   ]
  },
  {
   "cell_type": "markdown",
   "metadata": {},
   "source": [
    "# Random Forest"
   ]
  },
  {
   "cell_type": "code",
   "execution_count": 22,
   "metadata": {},
   "outputs": [
    {
     "data": {
      "text/plain": [
       "RandomForestClassifier(random_state=42)"
      ]
     },
     "execution_count": 22,
     "metadata": {},
     "output_type": "execute_result"
    }
   ],
   "source": [
    "orman_model = RandomForestClassifier(random_state=42)\n",
    "orman_model.fit(X_egitim, y_egitim)"
   ]
  },
  {
   "cell_type": "code",
   "execution_count": 23,
   "metadata": {},
   "outputs": [
    {
     "name": "stdout",
     "output_type": "stream",
     "text": [
      "[[409   3]\n",
      " [ 13 175]]\n",
      "              precision    recall  f1-score   support\n",
      "\n",
      "         0.0       0.97      0.99      0.98       412\n",
      "         1.0       0.98      0.93      0.96       188\n",
      "\n",
      "    accuracy                           0.97       600\n",
      "   macro avg       0.98      0.96      0.97       600\n",
      "weighted avg       0.97      0.97      0.97       600\n",
      "\n"
     ]
    }
   ],
   "source": [
    "y_tahmin = orman_model.predict(X_test)\n",
    "print(confusion_matrix(y_test, y_tahmin))\n",
    "print(classification_report(y_test, y_tahmin))"
   ]
  },
  {
   "cell_type": "code",
   "execution_count": 24,
   "metadata": {},
   "outputs": [],
   "source": [
    "pickle.dump(orman_model, open(\"modelim\", \"wb\"))"
   ]
  },
  {
   "cell_type": "markdown",
   "metadata": {},
   "source": [
    "# XGBOOST"
   ]
  },
  {
   "cell_type": "code",
   "execution_count": 25,
   "metadata": {},
   "outputs": [],
   "source": [
    "X_egitim, X_test, y_egitim, y_test = train_test_split(X, y, test_size=0.20, stratify=y, random_state=42)"
   ]
  },
  {
   "cell_type": "code",
   "execution_count": 26,
   "metadata": {},
   "outputs": [
    {
     "data": {
      "text/plain": [
       "XGBClassifier(base_score=0.5, booster='gbtree', colsample_bylevel=1,\n",
       "              colsample_bynode=1, colsample_bytree=1, gamma=0, gpu_id=-1,\n",
       "              importance_type='gain', interaction_constraints='',\n",
       "              learning_rate=0.300000012, max_delta_step=0, max_depth=6,\n",
       "              min_child_weight=1, missing=nan, monotone_constraints='()',\n",
       "              n_estimators=100, n_jobs=0, num_parallel_tree=1, random_state=0,\n",
       "              reg_alpha=0, reg_lambda=1, scale_pos_weight=1, subsample=1,\n",
       "              tree_method='exact', validate_parameters=1, verbosity=None)"
      ]
     },
     "execution_count": 26,
     "metadata": {},
     "output_type": "execute_result"
    }
   ],
   "source": [
    "xgb_model = XGBClassifier()\n",
    "xgb_model.fit(X_egitim, y_egitim)"
   ]
  },
  {
   "cell_type": "code",
   "execution_count": 27,
   "metadata": {},
   "outputs": [
    {
     "name": "stdout",
     "output_type": "stream",
     "text": [
      "[[411   1]\n",
      " [  0 188]]\n",
      "              precision    recall  f1-score   support\n",
      "\n",
      "         0.0       1.00      1.00      1.00       412\n",
      "         1.0       0.99      1.00      1.00       188\n",
      "\n",
      "    accuracy                           1.00       600\n",
      "   macro avg       1.00      1.00      1.00       600\n",
      "weighted avg       1.00      1.00      1.00       600\n",
      "\n"
     ]
    }
   ],
   "source": [
    "y_tahmin = xgb_model.predict(X_test)\n",
    "print(confusion_matrix(y_test, y_tahmin))\n",
    "print(classification_report(y_test, y_tahmin))"
   ]
  },
  {
   "cell_type": "code",
   "execution_count": 28,
   "metadata": {},
   "outputs": [],
   "source": [
    "pickle.dump(xgb_model, open(\"xgb\", \"wb\"))"
   ]
  },
  {
   "cell_type": "markdown",
   "metadata": {},
   "source": [
    "# TEK GİRİŞ"
   ]
  },
  {
   "cell_type": "code",
   "execution_count": 127,
   "metadata": {},
   "outputs": [],
   "source": [
    "model = pickle.load(open(\"xgb\", \"rb\"))"
   ]
  },
  {
   "cell_type": "code",
   "execution_count": 129,
   "metadata": {},
   "outputs": [],
   "source": [
    "my_dict={'yas':30, \n",
    "         'alantecrübesi':2, \n",
    "         'maaşbeklentisi':5000, \n",
    "         'ensonücret':4000, \n",
    "         'yzbilgi':2,\n",
    "         #'medenidurum_bekar':0,\n",
    "         #'medenidurum_evli':1,\n",
    "         #'askerlikdurumu_muaf/tamamlandı':1, \n",
    "         #'askerlikdurumu_tamamlanmadı':0,\n",
    "         'egitim_doktora':0, \n",
    "         'egitim_lisans':1, \n",
    "         'egitim_yükseklisans':0,\n",
    "         'egitim_önlisans':0, \n",
    "         'lisansbölümü_Bilgisayar':0,\n",
    "         'lisansbölümü_Bilgisayar Mühendisliği':1,\n",
    "         'lisansbölümü_Endüstri Mühendisliği':0, \n",
    "         'lisansbölümü_Matematik':0,\n",
    "         'lisansbölümü_Matematik Mühendisliği':0,\n",
    "         'lisansbölümü_İstatistik':0,\n",
    "         #'yükseklisansbölümü_0':0, \n",
    "         'yükseklisansbölümü_Bilgisayar Mühendisliği':0,\n",
    "         'yükseklisansbölümü_Endüstri Mühendisliği':0,\n",
    "         'yükseklisansbölümü_Veri Bilimi':0,\n",
    "         'yükseklisansbölümü_Yönetim Bilişim Sistemleri':0,\n",
    "         'yükseklisansbölümü_İstatistik':0, \n",
    "         #'doktorabölümü_0':0,\n",
    "         'doktorabölümü_Bilgisayar Mühendisliği':0,\n",
    "         'doktorabölümü_Endüstri Mühendisliği':0, \n",
    "         'doktorabölümü_Veri Bilimi':0,\n",
    "         'doktorabölümü_Yönetim Bilişim Sistemleri':0, \n",
    "         'doktorabölümü_İstatistik':0,\n",
    "         'adlisicilkaydı_vardır':0, \n",
    "         'adlisicilkaydı_yoktur':1,\n",
    "         'seyahatengeli_vardır':0, \n",
    "         'seyahatengeli_yoktur':1, \n",
    "         'referans_vardır':0,\n",
    "         'referans_yoktur':1, \n",
    "         'kurs_aldım':0, \n",
    "         'kurs_almadım':1,\n",
    "         'vardiyaimkanı_çalışabilirim':1, \n",
    "         'vardiyaimkanı_çalışamam':0, \n",
    "         'dil_almanca':0,\n",
    "         'dil_arapça':0, \n",
    "         'dil_bilmiyor':0, \n",
    "         'dil_fransızca':0,\n",
    "         'dil_ingilizce':0,\n",
    "         'dil_rusça':0, \n",
    "         'program_C':0, \n",
    "         'program_C++':0, \n",
    "         'program_R':1, \n",
    "         'program_bos':0,\n",
    "         'program_javascript':0,\n",
    "         'program_julia':0, \n",
    "         'program_python':0,\n",
    "         'program_scala':0,\n",
    "         'program_sql':0, \n",
    "         'program_PHP':0}"
   ]
  }
 ],
 "metadata": {
  "kernelspec": {
   "display_name": "Python 3",
   "language": "python",
   "name": "python3"
  },
  "language_info": {
   "codemirror_mode": {
    "name": "ipython",
    "version": 3
   },
   "file_extension": ".py",
   "mimetype": "text/x-python",
   "name": "python",
   "nbconvert_exporter": "python",
   "pygments_lexer": "ipython3",
   "version": "3.8.3"
  }
 },
 "nbformat": 4,
 "nbformat_minor": 4
}
